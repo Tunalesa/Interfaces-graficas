{
  "nbformat": 4,
  "nbformat_minor": 0,
  "metadata": {
    "colab": {
      "provenance": [],
      "authorship_tag": "ABX9TyPcq9VgRUcsbJ0ceK9BZK0f",
      "include_colab_link": true
    },
    "kernelspec": {
      "name": "python3",
      "display_name": "Python 3"
    },
    "language_info": {
      "name": "python"
    }
  },
  "cells": [
    {
      "cell_type": "markdown",
      "metadata": {
        "id": "view-in-github",
        "colab_type": "text"
      },
      "source": [
        "<a href=\"https://colab.research.google.com/github/Tunalesa/Interfaces-graficas/blob/main/contador.ipynb\" target=\"_parent\"><img src=\"https://colab.research.google.com/assets/colab-badge.svg\" alt=\"Open In Colab\"/></a>"
      ]
    },
    {
      "cell_type": "code",
      "execution_count": 10,
      "metadata": {
        "colab": {
          "base_uri": "https://localhost:8080/"
        },
        "id": "9fs0ZuqVwedg",
        "outputId": "356217a4-4a1c-4bfd-a069-804835bf49f5"
      },
      "outputs": [
        {
          "output_type": "stream",
          "name": "stdout",
          "text": [
            "Valor actual del contador: 1\n",
            "Valor actual del contador: 2\n",
            "Valor actual del contador: 3\n",
            "Valor actual del contador: 4\n",
            "Valor actual del contador: 5\n"
          ]
        }
      ],
      "source": [
        "class Contador:\n",
        "    def __init__(self):\n",
        "        self.valor = 0\n",
        "\n",
        "    def incrementar(self):\n",
        "        if self.valor < 5:\n",
        "            self.valor += 1\n",
        "\n",
        "    def obtener_valor(self):\n",
        "        return self.valor\n",
        "\n",
        "# Crear una instancia del contador\n",
        "mi_contador = Contador()\n",
        "\n",
        "# Incrementar el contador de 0 a 5\n",
        "while mi_contador.obtener_valor() < 5:\n",
        "    mi_contador.incrementar()\n",
        "    print(\"Valor actual del contador:\", mi_contador.obtener_valor())\n"
      ]
    },
    {
      "cell_type": "code",
      "source": [],
      "metadata": {
        "id": "hJmitvpK0u4r"
      },
      "execution_count": null,
      "outputs": []
    }
  ]
}