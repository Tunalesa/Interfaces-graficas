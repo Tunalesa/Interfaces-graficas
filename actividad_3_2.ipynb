{
  "nbformat": 4,
  "nbformat_minor": 0,
  "metadata": {
    "colab": {
      "provenance": [],
      "authorship_tag": "ABX9TyOCxqV+1AWlsiofFs5jF2Yo",
      "include_colab_link": true
    },
    "kernelspec": {
      "name": "python3",
      "display_name": "Python 3"
    },
    "language_info": {
      "name": "python"
    }
  },
  "cells": [
    {
      "cell_type": "markdown",
      "metadata": {
        "id": "view-in-github",
        "colab_type": "text"
      },
      "source": [
        "<a href=\"https://colab.research.google.com/github/Tunalesa/Interfaces-graficas/blob/main/actividad_3_2.ipynb\" target=\"_parent\"><img src=\"https://colab.research.google.com/assets/colab-badge.svg\" alt=\"Open In Colab\"/></a>"
      ]
    },
    {
      "cell_type": "code",
      "execution_count": null,
      "metadata": {
        "colab": {
          "base_uri": "https://localhost:8080/"
        },
        "id": "-pUW9dCuMeXQ",
        "outputId": "f6e824c5-8b69-473b-e200-bac97e01cc0f"
      },
      "outputs": [
        {
          "output_type": "stream",
          "name": "stdout",
          "text": [
            "Lista de reproducción:\n",
            "1. Canción 1\n",
            "2. Canción 2\n",
            "3. Canción 3\n",
            "Lista de reproducción:\n",
            "1. Canción 1\n",
            "2. Canción 3\n"
          ]
        }
      ],
      "source": [
        "# actividad#1\n",
        "from datetime import datetime\n",
        "\n",
        "class MiConsola:\n",
        "    def mostrar_fecha_y_hora_actual(self):\n",
        "        now = datetime.now()\n",
        "        formatted_datetime = now.strftime(\"%Y-%m-%d %H:%M:%S\")  # Formato YYYY-MM-DD HH:MM:SS\n",
        "        print(f\"Fecha y hora actual: {formatted_datetime}\")\n",
        "\n",
        "if __name__ == \"__main__\":\n",
        "    app = MiConsola()\n",
        "    app.mostrar_fecha_y_hora_actual()\n",
        "\n"
      ]
    },
    {
      "cell_type": "code",
      "source": [
        "# actividad#2\n",
        "class AplicacionConsola:\n",
        "    def __init__(self):\n",
        "        self.elementos = []\n",
        "\n",
        "    def mostrar_menu(self):\n",
        "        print(\"1. Agregar elemento\")\n",
        "        print(\"2. Seleccionar y eliminar elemento\")\n",
        "        print(\"3. Limpiar lista\")\n",
        "        print(\"4. Salir\")\n",
        "\n",
        "    def agregar_elemento(self):\n",
        "        elemento = input(\"Ingrese un elemento: \")\n",
        "        self.elementos.append(elemento)\n",
        "        print(f\"Elemento '{elemento}' agregado.\")\n",
        "\n",
        "    def seleccionar_y_eliminar_elemento(self):\n",
        "        if not self.elementos:\n",
        "            print(\"La lista está vacía.\")\n",
        "            return\n",
        "\n",
        "        print(\"Elementos en la lista:\")\n",
        "        for i, elemento in enumerate(self.elementos, 1):\n",
        "            print(f\"{i}. {elemento}\")\n",
        "\n",
        "        try:\n",
        "            indice = int(input(\"Seleccione el número del elemento a eliminar: \"))\n",
        "            if 1 <= indice <= len(self.elementos):\n",
        "                elemento_seleccionado = self.elementos.pop(indice - 1)\n",
        "                print(f\"Elemento '{elemento_seleccionado}' eliminado.\")\n",
        "            else:\n",
        "                print(\"Número de índice no válido.\")\n",
        "        except ValueError:\n",
        "            print(\"Ingrese un número válido.\")\n",
        "\n",
        "    def limpiar_lista(self):\n",
        "        self.elementos.clear()\n",
        "        print(\"Lista limpiada.\")\n",
        "\n",
        "    def ejecutar_aplicacion(self):\n",
        "        while True:\n",
        "            self.mostrar_menu()\n",
        "            opcion = input(\"Seleccione una opción: \")\n",
        "\n",
        "            if opcion == '1':\n",
        "                self.agregar_elemento()\n",
        "            elif opcion == '2':\n",
        "                self.seleccionar_y_eliminar_elemento()\n",
        "            elif opcion == '3':\n",
        "                self.limpiar_lista()\n",
        "            elif opcion == '4':\n",
        "                print(\"Saliendo de la aplicación.\")\n",
        "                break\n",
        "            else:\n",
        "                print(\"Opción no válida. Intente de nuevo.\")\n",
        "\n",
        "if __name__ == \"__main__\":\n",
        "    app = AplicacionConsola()\n",
        "    app.ejecutar_aplicacion()\n"
      ],
      "metadata": {
        "colab": {
          "base_uri": "https://localhost:8080/"
        },
        "id": "o_Xb1Vy0rRHA",
        "outputId": "e6cea998-ab77-4d84-c676-f7b6336a64c9"
      },
      "execution_count": 1,
      "outputs": [
        {
          "output_type": "stream",
          "name": "stdout",
          "text": [
            "1. Agregar elemento\n",
            "2. Seleccionar y eliminar elemento\n",
            "3. Limpiar lista\n",
            "4. Salir\n",
            "Seleccione una opción: 1\n",
            "Ingrese un elemento: 37\n",
            "Elemento '37' agregado.\n",
            "1. Agregar elemento\n",
            "2. Seleccionar y eliminar elemento\n",
            "3. Limpiar lista\n",
            "4. Salir\n",
            "Seleccione una opción: 1\n",
            "Ingrese un elemento: 18\n",
            "Elemento '18' agregado.\n",
            "1. Agregar elemento\n",
            "2. Seleccionar y eliminar elemento\n",
            "3. Limpiar lista\n",
            "4. Salir\n",
            "Seleccione una opción: 2\n",
            "Elementos en la lista:\n",
            "1. 37\n",
            "2. 18\n",
            "Seleccione el número del elemento a eliminar: 2\n",
            "Elemento '18' eliminado.\n",
            "1. Agregar elemento\n",
            "2. Seleccionar y eliminar elemento\n",
            "3. Limpiar lista\n",
            "4. Salir\n",
            "Seleccione una opción: 3\n",
            "Lista limpiada.\n",
            "1. Agregar elemento\n",
            "2. Seleccionar y eliminar elemento\n",
            "3. Limpiar lista\n",
            "4. Salir\n",
            "Seleccione una opción: 2\n",
            "La lista está vacía.\n",
            "1. Agregar elemento\n",
            "2. Seleccionar y eliminar elemento\n",
            "3. Limpiar lista\n",
            "4. Salir\n",
            "Seleccione una opción: 4\n",
            "Saliendo de la aplicación.\n"
          ]
        }
      ]
    },
    {
      "cell_type": "code",
      "source": [
        "# actividd#3\n",
        "def suma(a, b):\n",
        "    return a + b\n",
        "\n",
        "def resta(a, b):\n",
        "    return a - b\n",
        "\n",
        "def multiplicacion(a, b):\n",
        "    return a * b\n",
        "\n",
        "def division(a, b):\n",
        "    if b != 0:\n",
        "        return a / b\n",
        "    else:\n",
        "        return \"No se puede dividir por cero\"\n",
        "\n",
        "def calculadora():\n",
        "    try:\n",
        "        num1 = float(input(\"Ingrese el primer número: \"))\n",
        "        operacion = input(\"Ingrese la operación (+, -, *, /): \")\n",
        "        num2 = float(input(\"Ingrese el segundo número: \"))\n",
        "\n",
        "        if operacion == '+':\n",
        "            resultado = suma(num1, num2)\n",
        "        elif operacion == '-':\n",
        "            resultado = resta(num1, num2)\n",
        "        elif operacion == '*':\n",
        "            resultado = multiplicacion(num1, num2)\n",
        "        elif operacion == '/':\n",
        "            resultado = division(num1, num2)\n",
        "        else:\n",
        "            resultado = \"Operación no válida\"\n",
        "\n",
        "        print(f\"Resultado: {resultado}\")\n",
        "\n",
        "    except ValueError:\n",
        "        print(\"Error: Ingrese números válidos.\")\n",
        "    except Exception as e:\n",
        "        print(f\"Error: {e}\")\n",
        "\n",
        "if __name__ == \"__main__\":\n",
        "    calculadora()\n",
        "\n"
      ],
      "metadata": {
        "colab": {
          "base_uri": "https://localhost:8080/"
        },
        "id": "TJeIW_TGr3ke",
        "outputId": "a47da05e-cb92-4277-acd5-6114848b1f6f"
      },
      "execution_count": 2,
      "outputs": [
        {
          "output_type": "stream",
          "name": "stdout",
          "text": [
            "Ingrese el primer número: 2\n",
            "Ingrese la operación (+, -, *, /): -\n",
            "Ingrese el segundo número: 3\n",
            "Resultado: -1.0\n"
          ]
        }
      ]
    },
    {
      "cell_type": "code",
      "source": [
        "# actividad#4\n",
        "import numpy as np\n",
        "\n",
        "def suma(a, b):\n",
        "    return np.add(a, b)\n",
        "\n",
        "def resta(a, b):\n",
        "    return np.subtract(a, b)\n",
        "\n",
        "def multiplicacion(a, b):\n",
        "    return np.multiply(a, b)\n",
        "\n",
        "def division(a, b):\n",
        "    # Manejar la división por cero\n",
        "    return np.divide(a, b, out=np.zeros_like(a), where=b != 0)\n",
        "\n",
        "if __name__ == \"__main__\":\n",
        "    try:\n",
        "        # Solicitar al usuario que ingrese dos números\n",
        "        num1 = float(input(\"Ingrese el primer número: \"))\n",
        "        num2 = float(input(\"Ingrese el segundo número: \"))\n",
        "\n",
        "        # Crear arrays de NumPy\n",
        "        a = np.array([num1])\n",
        "        b = np.array([num2])\n",
        "\n",
        "        # Realizar operaciones\n",
        "        print(f\"Suma: {suma(a, b)[0]}\")\n",
        "        print(f\"Resta: {resta(a, b)[0]}\")\n",
        "        print(f\"Multiplicación: {multiplicacion(a, b)[0]}\")\n",
        "        print(f\"División: {division(a, b)[0]}\")\n",
        "\n",
        "    except ValueError:\n",
        "        print(\"Error: Ingrese números válidos.\")\n"
      ],
      "metadata": {
        "colab": {
          "base_uri": "https://localhost:8080/"
        },
        "id": "UlLAKJpTsOGn",
        "outputId": "e5efdd8f-3d12-46c5-9391-291270fbda95"
      },
      "execution_count": 3,
      "outputs": [
        {
          "output_type": "stream",
          "name": "stdout",
          "text": [
            "Ingrese el primer número: 7\n",
            "Ingrese el segundo número: 9\n",
            "Suma: 16.0\n",
            "Resta: -2.0\n",
            "Multiplicación: 63.0\n",
            "División: 0.7777777777777778\n"
          ]
        }
      ]
    },
    {
      "cell_type": "code",
      "source": [
        "#actividad 5\n",
        "import json\n",
        "\n",
        "# Escribir datos a un archivo JSON\n",
        "def escribir_json(archivo, datos):\n",
        "    with open(archivo, 'w') as jsonfile:\n",
        "        json.dump(datos, jsonfile, indent=2)\n",
        "\n",
        "# Leer datos desde un archivo JSON\n",
        "def leer_json(archivo):\n",
        "    with open(archivo, 'r') as jsonfile:\n",
        "        datos = json.load(jsonfile)\n",
        "    return datos\n",
        "\n",
        "# Ejemplo de uso\n",
        "datos_a_escribir = [\n",
        "    {'Nombre': 'Alice', 'Edad': 25, 'Ciudad': 'Ciudad1'},\n",
        "    {'Nombre': 'Bob', 'Edad': 30, 'Ciudad': 'Ciudad2'},\n",
        "]\n",
        "\n",
        "escribir_json('datos.json', datos_a_escribir)\n",
        "\n",
        "datos_leidos = leer_json('datos.json')\n",
        "print(datos_leidos)\n"
      ],
      "metadata": {
        "colab": {
          "base_uri": "https://localhost:8080/"
        },
        "id": "EyK40D3zshEX",
        "outputId": "2c18df37-2d3c-449a-d191-ece8ee85acbc"
      },
      "execution_count": 4,
      "outputs": [
        {
          "output_type": "stream",
          "name": "stdout",
          "text": [
            "[{'Nombre': 'Alice', 'Edad': 25, 'Ciudad': 'Ciudad1'}, {'Nombre': 'Bob', 'Edad': 30, 'Ciudad': 'Ciudad2'}]\n"
          ]
        }
      ]
    },
    {
      "cell_type": "code",
      "source": [
        "# actividad 6\n",
        "def convertir_a_boolean(cadena):\n",
        "    # Evaluamos la cadena y devolvemos True si es \"verdadero\" y False en otros casos\n",
        "    return cadena.lower() == \"verdadero\"\n",
        "\n",
        "# Obtener el valor de TextBox1 como cadena\n",
        "texto_textbox1 = input(\"Ingrese un valor para TextBox1: \")\n",
        "\n",
        "# Convertir la cadena a un valor booleano\n",
        "A = convertir_a_boolean(texto_textbox1)\n",
        "\n",
        "# Mostrar el valor booleano en TextBox2\n",
        "texto_textbox2 = str(A)\n",
        "print(\"Valor en TextBox2:\", texto_textbox2)\n"
      ],
      "metadata": {
        "colab": {
          "base_uri": "https://localhost:8080/"
        },
        "id": "_FTJVXWZtEeU",
        "outputId": "1810da0a-e21c-484c-daf8-38965a065b3a"
      },
      "execution_count": 5,
      "outputs": [
        {
          "output_type": "stream",
          "name": "stdout",
          "text": [
            "Ingrese un valor para TextBox1: 0.1\n",
            "Valor en TextBox2: False\n"
          ]
        }
      ]
    },
    {
      "cell_type": "code",
      "source": [
        "#actividad 7\n",
        "pip install opencv-python pyttsx3\n",
        "\n",
        "import cv2\n",
        "import pyttsx3\n",
        "\n",
        "# Inicializar el motor de texto a voz\n",
        "engine = pyttsx3.init()\n",
        "\n",
        "def capturar_video():\n",
        "    # Inicializar la cámara\n",
        "    cap = cv2.VideoCapture(0)\n",
        "\n",
        "    while True:\n",
        "        ret, frame = cap.read()\n",
        "\n",
        "        # Mostrar la imagen capturada\n",
        "        cv2.imshow('Captura de Video', frame)\n",
        "\n",
        "        # Convertir la imagen a escala de grises para el procesamiento\n",
        "        gray = cv2.cvtColor(frame, cv2.COLOR_BGR2GRAY)\n",
        "\n",
        "        # Realizar el procesamiento de imagen según tus necesidades\n",
        "        # (puedes agregar aquí tu lógica específica para \"Habla Visual\")\n",
        "\n",
        "        # Salir del bucle si se presiona la tecla 'q'\n",
        "        if cv2.waitKey(1) & 0xFF == ord('q'):\n",
        "            break\n",
        "\n",
        "    # Liberar la cámara y cerrar la ventana\n",
        "    cap.release()\n",
        "    cv2.destroyAllWindows()\n",
        "\n",
        "def hablar_mensaje(mensaje):\n",
        "    # Utilizar el motor de texto a voz para hablar el mensaje\n",
        "    engine.say(mensaje)\n",
        "    engine.runAndWait()\n",
        "\n",
        "if __name__ == \"__main__\":\n",
        "    try:\n",
        "        # Capturar video en un hilo separado\n",
        "        capturar_video()\n",
        "\n",
        "        # Ejemplo de habla visual: Decir un mensaje después de capturar video\n",
        "        mensaje = \"¡Hola! Has capturado un video. Este es un ejemplo de habla visual en Python.\"\n",
        "        hablar_mensaje(mensaje)\n",
        "\n",
        "    except Exception as e:\n",
        "        print(f\"Error: {e}\")"
      ],
      "metadata": {
        "id": "Wfa6d07OtKUx"
      },
      "execution_count": null,
      "outputs": []
    },
    {
      "cell_type": "code",
      "source": [
        "# actividad 8\n",
        "import time\n",
        "import sys\n",
        "\n",
        "def enviar_dato(ser, dato):\n",
        "    try:\n",
        "        # Envía el dato al puerto serie\n",
        "        ser.write(dato.encode())\n",
        "        print(f\"Dato enviado: {dato}\")\n",
        "    except Exception as e:\n",
        "        print(f\"Error al enviar el dato: {e}\")\n",
        "\n",
        "def main():\n",
        "    try:\n",
        "        # Reemplaza 'COM3' con el puerto correcto de tu Arduino\n",
        "        ser = open_serial_port('COM3', 9600)\n",
        "\n",
        "        if ser is not None:\n",
        "            # Envía un dato al Arduino\n",
        "            enviar_dato(ser, '1')\n",
        "\n",
        "            # Espera 2 segundos (ajusta según sea necesario)\n",
        "            time.sleep(2)\n",
        "\n",
        "            # Cierra el puerto serie\n",
        "            ser.close()\n",
        "            print(\"Conexión cerrada.\")\n",
        "    except Exception as e:\n",
        "        print(f\"Error: {e}\")\n",
        "\n",
        "def open_serial_port(port, baudrate):\n",
        "    try:\n",
        "        # Abre el puerto serie\n",
        "        ser = open(port, 'wb', buffering=0)\n",
        "        ser.baudrate = baudrate\n",
        "        return ser\n",
        "    except Exception as e:\n",
        "        print(f\"Error al abrir el puerto serie: {e}\")\n",
        "        sys.exit()\n",
        "\n",
        "if __name__ == \"__main__\":\n",
        "    main()\n"
      ],
      "metadata": {
        "colab": {
          "base_uri": "https://localhost:8080/"
        },
        "id": "KyEnOn5ptX_l",
        "outputId": "6b778e91-24bb-41f7-90f6-419f31000b97"
      },
      "execution_count": 6,
      "outputs": [
        {
          "output_type": "stream",
          "name": "stdout",
          "text": [
            "Dato enviado: 1\n",
            "Conexión cerrada.\n"
          ]
        }
      ]
    },
    {
      "cell_type": "code",
      "source": [
        "# actividad 9\n",
        "pip install PySimpleGUI\n",
        "\n",
        "import PySimpleGUI as sg\n",
        "\n",
        "layout = [\n",
        "    [sg.Image(filename=\"\", key=\"-IMAGE-\")],\n",
        "    [sg.Button(\"Botón 1\"), sg.Button(\"Botón 2\"), sg.Button(\"Cargar Imagen\")],\n",
        "]\n",
        "\n",
        "window = sg.Window(\"Ejemplo con PictureBox y Botones\", layout, finalize=True)\n",
        "\n",
        "def cargar_imagen():\n",
        "    ruta_imagen = \"ruta_de_la_imagen.jpg\"  # Reemplazar con la ruta de tu imagen\n",
        "    window[\"-IMAGE-\"].update(filename=ruta_imagen)\n",
        "\n",
        "def boton_presionado(etiqueta):\n",
        "    print(f\"Botón {etiqueta} presionado.\")\n",
        "\n",
        "while True:\n",
        "    event, values = window.read()\n",
        "\n",
        "    if event == sg.WINDOW_CLOSED:\n",
        "        break\n",
        "    elif event == \"Cargar Imagen\":\n",
        "        cargar_imagen()\n",
        "    elif event.startswith(\"Botón\"):\n",
        "        boton_presionado(event.split()[-1])\n",
        "\n",
        "window.close()\n"
      ],
      "metadata": {
        "id": "zSQn7ZNctmHM"
      },
      "execution_count": null,
      "outputs": []
    },
    {
      "cell_type": "code",
      "source": [
        "# actividad 10\n",
        "import json\n",
        "\n",
        "def guardar_agenda(agenda, archivo):\n",
        "    with open(archivo, 'w') as f:\n",
        "        json.dump(agenda, f)\n",
        "\n",
        "def cargar_agenda(archivo):\n",
        "    try:\n",
        "        with open(archivo, 'r') as f:\n",
        "            agenda = json.load(f)\n",
        "        return agenda\n",
        "    except FileNotFoundError:\n",
        "        return {}\n",
        "\n",
        "# Ejemplo de uso\n",
        "agenda_telefonica = {'Juan': '123456789', 'Maria': '987654321', 'Carlos': '555555555'}\n",
        "\n",
        "# Guardar la agenda en un archivo\n",
        "guardar_agenda(agenda_telefonica, 'agenda.json')\n",
        "\n",
        "# Cargar la agenda desde el archivo\n",
        "agenda_cargada = cargar_agenda('agenda.json')\n",
        "\n",
        "print(\"Agenda cargada:\", agenda_cargada)\n"
      ],
      "metadata": {
        "colab": {
          "base_uri": "https://localhost:8080/"
        },
        "id": "opgZUCGVuEUb",
        "outputId": "cd5c5b5c-2174-4516-be90-631c8ea88242"
      },
      "execution_count": 8,
      "outputs": [
        {
          "output_type": "stream",
          "name": "stdout",
          "text": [
            "Agenda cargada: {'Juan': '123456789', 'Maria': '987654321', 'Carlos': '555555555'}\n"
          ]
        }
      ]
    },
    {
      "cell_type": "code",
      "source": [
        "# actividad 11\n",
        "import matplotlib.pyplot as plt\n",
        "\n",
        "# Coordenadas x y y de la trayectoria\n",
        "x = [0, 1, 2, 3, 4]\n",
        "y = [0, 1, 4, 9, 16]\n",
        "\n",
        "# Trazar la trayectoria\n",
        "plt.plot(x, y, marker='o', linestyle='-', color='b', label='Trayectoria')\n",
        "\n",
        "# Personalizar el gráfico\n",
        "plt.title('Trayectoria')\n",
        "plt.xlabel('Eje X')\n",
        "plt.ylabel('Eje Y')\n",
        "plt.legend()\n",
        "\n",
        "# Mostrar el gráfico\n",
        "plt.show()\n"
      ],
      "metadata": {
        "colab": {
          "base_uri": "https://localhost:8080/",
          "height": 472
        },
        "id": "hZq_tHH5uQZu",
        "outputId": "0826376c-3f32-40e5-e9d4-4062dd2c6612"
      },
      "execution_count": 9,
      "outputs": [
        {
          "output_type": "display_data",
          "data": {
            "text/plain": [
              "<Figure size 640x480 with 1 Axes>"
            ],
            "image/png": "[encoded data removed]"
          },
          "metadata": {}
        }
      ]
    },
    {
      "cell_type": "code",
      "source": [
        "# actividad 12\n",
        "class ConsolaPaint:\n",
        "    def __init__(self):\n",
        "        self.grid_size = 10\n",
        "        self.grid = [[' ' for _ in range(self.grid_size)] for _ in range(self.grid_size)]\n",
        "\n",
        "    def mostrar_grid(self):\n",
        "        for row in self.grid:\n",
        "            print(' '.join(row))\n",
        "        print()\n",
        "\n",
        "    def dibujar_linea(self, x1, y1, x2, y2):\n",
        "        for x, y in zip(range(x1, x2 + 1), range(y1, y2 + 1)):\n",
        "            if 0 <= x < self.grid_size and 0 <= y < self.grid_size:\n",
        "                self.grid[y][x] = 'X'\n",
        "\n",
        "    def dibujar_circulo(self, x, y, radio):\n",
        "        for i in range(self.grid_size):\n",
        "            for j in range(self.grid_size):\n",
        "                if (i - x)**2 + (j - y)**2 <= radio**2:\n",
        "                    if 0 <= i < self.grid_size and 0 <= j < self.grid_size:\n",
        "                        self.grid[j][i] = 'X'\n",
        "\n",
        "    def ejecutar_consola_paint(self):\n",
        "        while True:\n",
        "            comando = input(\"Ingrese el comando (linea/circulo/mostrar/salir): \").lower()\n",
        "\n",
        "            if comando == 'mostrar':\n",
        "                self.mostrar_grid()\n",
        "            elif comando == 'salir':\n",
        "                print(\"Saliendo de la aplicación.\")\n",
        "                break\n",
        "            elif comando == 'linea':\n",
        "                x1, y1 = map(int, input(\"Ingrese las coordenadas de inicio (x y): \").split())\n",
        "                x2, y2 = map(int, input(\"Ingrese las coordenadas de fin (x y): \").split())\n",
        "                self.dibujar_linea(x1, y1, x2, y2)\n",
        "            elif comando == 'circulo':\n",
        "                x, y, radio = map(int, input(\"Ingrese las coordenadas del centro y el radio (x y radio): \").split())\n",
        "                self.dibujar_circulo(x, y, radio)\n",
        "            else:\n",
        "                print(\"Comando no válido. Intente de nuevo.\")\n",
        "\n",
        "if __name__ == \"__main__\":\n",
        "    consola_paint = ConsolaPaint()\n",
        "    consola_paint.ejecutar_consola_paint()\n"
      ],
      "metadata": {
        "colab": {
          "base_uri": "https://localhost:8080/"
        },
        "id": "LM7IWeW3ui91",
        "outputId": "eab310e9-976e-4673-8b89-cb58abac51d5"
      },
      "execution_count": 16,
      "outputs": [
        {
          "output_type": "stream",
          "name": "stdout",
          "text": [
            "Ingrese el comando (linea/circulo/mostrar/salir): linea\n",
            "Ingrese las coordenadas de inicio (x y): 1 1\n",
            "Ingrese las coordenadas de fin (x y): 2 2\n",
            "Ingrese el comando (linea/circulo/mostrar/salir): mostrar\n",
            "                   \n",
            "  X                \n",
            "    X              \n",
            "                   \n",
            "                   \n",
            "                   \n",
            "                   \n",
            "                   \n",
            "                   \n",
            "                   \n",
            "\n",
            "Ingrese el comando (linea/circulo/mostrar/salir): salir\n",
            "Saliendo de la aplicación.\n"
          ]
        }
      ]
    },
    {
      "cell_type": "code",
      "source": [
        "# actividad 13\n",
        "import tkinter as tk\n",
        "from tkinter import ttk\n",
        "import webbrowser\n",
        "\n",
        "def abrir_url():\n",
        "    url = entrada_url.get()\n",
        "    webbrowser.open(url)\n",
        "\n",
        "# Crear la ventana principal\n",
        "ventana = tk.Tk()\n",
        "ventana.title(\"Navegador Web Simple\")\n",
        "\n",
        "# Crear un cuadro de entrada para la URL\n",
        "entrada_url = ttk.Entry(ventana, width=50)\n",
        "entrada_url.grid(row=0, column=0, padx=10, pady=10)\n",
        "\n",
        "# Crear un botón para abrir la URL\n",
        "boton_abrir = ttk.Button(ventana, text=\"Abrir\", command=abrir_url)\n",
        "boton_abrir.grid(row=0, column=1, padx=10, pady=10)\n",
        "\n",
        "# Iniciar el bucle principal de la aplicación\n",
        "ventana.mainloop()\n"
      ],
      "metadata": {
        "id": "WOwzNn8Kvcuh"
      },
      "execution_count": null,
      "outputs": []
    },
    {
      "cell_type": "code",
      "source": [
        "#actividad 14\n",
        "import sqlite3\n",
        "\n",
        "class DatabaseManager:\n",
        "    def __init__(self, db_name='mi_base_de_datos.db'):\n",
        "        self.connection = sqlite3.connect(db_name)\n",
        "        self.cursor = self.connection.cursor()\n",
        "        self.create_table()\n",
        "\n",
        "    def create_table(self):\n",
        "        self.cursor.execute('''\n",
        "            CREATE TABLE IF NOT EXISTS usuarios (\n",
        "                id INTEGER PRIMARY KEY AUTOINCREMENT,\n",
        "                nombre TEXT NOT NULL,\n",
        "                edad INTEGER\n",
        "            )\n",
        "        ''')\n",
        "        self.connection.commit()\n",
        "\n",
        "    def agregar_usuario(self, nombre, edad):\n",
        "        self.cursor.execute('''\n",
        "            INSERT INTO usuarios (nombre, edad) VALUES (?, ?)\n",
        "        ''', (nombre, edad))\n",
        "        self.connection.commit()\n",
        "\n",
        "    def obtener_usuarios(self):\n",
        "        self.cursor.execute('''\n",
        "            SELECT * FROM usuarios\n",
        "        ''')\n",
        "        return self.cursor.fetchall()\n",
        "\n",
        "    def cerrar_conexion(self):\n",
        "        self.connection.close()\n",
        "\n",
        "# Uso de la base de datos\n",
        "db_manager = DatabaseManager()\n",
        "\n",
        "# Agregar usuarios\n",
        "db_manager.agregar_usuario('Juan', 25)\n",
        "db_manager.agregar_usuario('Ana', 30)\n",
        "\n",
        "# Obtener usuarios y mostrarlos\n",
        "usuarios = db_manager.obtener_usuarios()\n",
        "print(\"Usuarios en la base de datos:\")\n",
        "for usuario in usuarios:\n",
        "    print(usuario)\n",
        "\n",
        "# Cerrar la conexión\n",
        "db_manager.cerrar_conexion()\n"
      ],
      "metadata": {
        "colab": {
          "base_uri": "https://localhost:8080/"
        },
        "id": "wv7bq12xvs0W",
        "outputId": "716024fb-786c-41f3-c45e-357c687e2411"
      },
      "execution_count": 17,
      "outputs": [
        {
          "output_type": "stream",
          "name": "stdout",
          "text": [
            "Usuarios en la base de datos:\n",
            "(1, 'Juan', 25)\n",
            "(2, 'Ana', 30)\n"
          ]
        }
      ]
    },
    {
      "cell_type": "code",
      "source": [
        "#actividad 15\n",
        "pip install pydub simpleaudio\n",
        "\n",
        "from pydub import AudioSegment\n",
        "import simpleaudio as sa\n",
        "import time\n",
        "\n",
        "class MusicPlayer:\n",
        "    def __init__(self):\n",
        "        self.playing = False\n",
        "\n",
        "    def play_audio(self, audio_file):\n",
        "        audio = AudioSegment.from_file(audio_file)\n",
        "        wave_obj = sa.WaveObject.from_wave_file(audio_file)\n",
        "\n",
        "        print(f\"Reproduciendo: {audio_file}\")\n",
        "\n",
        "        self.playing = True\n",
        "        play_obj = wave_obj.play()\n",
        "\n",
        "        # Esperar hasta que la reproducción termine\n",
        "        play_obj.wait_done()\n",
        "        self.playing = False\n",
        "\n",
        "if __name__ == \"__main__\":\n",
        "    player = MusicPlayer()\n",
        "\n",
        "    # Ruta de tu archivo de música local\n",
        "    file_path = \"ruta/de/tu/archivo/musical.mp3\"\n",
        "\n",
        "    player.play_audio(file_path)\n",
        "\n",
        "    # Esperar a que termine la reproducción\n",
        "    while player.playing:\n",
        "        time.sleep(1)\n"
      ],
      "metadata": {
        "id": "tZDt69Xvv_iw"
      },
      "execution_count": null,
      "outputs": []
    },
    {
      "cell_type": "code",
      "source": [
        "# actividad#16\n",
        "class Playlist:\n",
        "    def __init__(self):\n",
        "        self.playlist = []\n",
        "\n",
        "    def agregar_cancion(self, nombre, ubicacion):\n",
        "        cancion = {'nombre': nombre, 'ubicacion': ubicacion}\n",
        "        self.playlist.append(cancion)\n",
        "\n",
        "    def mostrar_playlist(self):\n",
        "        for i, cancion in enumerate(self.playlist, start=1):\n",
        "            print(f\"{i}. {cancion['nombre']} - {cancion['ubicacion']}\")\n",
        "\n",
        "    def reproducir(self, indice):\n",
        "        if 1 <= indice <= len(self.playlist):\n",
        "            print(f\"Reproduciendo: {self.playlist[indice - 1]['nombre']}\")\n",
        "        else:\n",
        "            print(\"Índice no válido\")\n",
        "\n",
        "# Crear una lista de reproducción\n",
        "mi_playlist = Playlist()\n",
        "\n",
        "# Agregar canciones a la lista de reproducción\n",
        "mi_playlist.agregar_cancion(\"Canción 1\", \"/ruta/cancion1.mp3\")\n",
        "mi_playlist.agregar_cancion(\"Canción 2\", \"/ruta/cancion2.mp3\")\n",
        "mi_playlist.agregar_cancion(\"Canción 3\", \"/ruta/cancion3.mp3\")\n",
        "\n",
        "# Mostrar la lista de reproducción\n",
        "print(\"Lista de reproducción:\")\n",
        "mi_playlist.mostrar_playlist()\n",
        "\n",
        "# Reproducir una canción por índice\n",
        "mi_playlist.reproducir(2)\n"
      ],
      "metadata": {
        "colab": {
          "base_uri": "https://localhost:8080/"
        },
        "id": "7rgtHqUlJzct",
        "outputId": "7eae3187-5063-4462-c877-fd38ce4cfbfc"
      },
      "execution_count": 7,
      "outputs": [
        {
          "output_type": "stream",
          "name": "stdout",
          "text": [
            "Lista de reproducción:\n",
            "1. Canción 1 - /ruta/cancion1.mp3\n",
            "2. Canción 2 - /ruta/cancion2.mp3\n",
            "3. Canción 3 - /ruta/cancion3.mp3\n",
            "Reproduciendo: Canción 2\n"
          ]
        }
      ]
    }
  ]
}