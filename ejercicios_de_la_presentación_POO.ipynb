{
  "nbformat": 4,
  "nbformat_minor": 0,
  "metadata": {
    "colab": {
      "provenance": [],
      "authorship_tag": "ABX9TyNix0TkZn6TzurF0oY9p6BB",
      "include_colab_link": true
    },
    "kernelspec": {
      "name": "python3",
      "display_name": "Python 3"
    },
    "language_info": {
      "name": "python"
    }
  },
  "cells": [
    {
      "cell_type": "markdown",
      "metadata": {
        "id": "view-in-github",
        "colab_type": "text"
      },
      "source": [
        "<a href=\"https://colab.research.google.com/github/Tunalesa/Interfaces-graficas/blob/main/ejercicios_de_la_presentaci%C3%B3n_POO.ipynb\" target=\"_parent\"><img src=\"https://colab.research.google.com/assets/colab-badge.svg\" alt=\"Open In Colab\"/></a>"
      ]
    },
    {
      "cell_type": "code",
      "source": [
        "class Sucursal:\n",
        "    def __init__(self, codigo, nombre, direccion, telefono):\n",
        "        self.codigo = codigo\n",
        "        self.nombre = nombre\n",
        "        self.direccion = direccion\n",
        "        self.telefono = telefono\n",
        "\n",
        "class CuentaCorriente:\n",
        "    def __init__(self, codigo, codigo_sucursal, saldo, tipo):\n",
        "        self.codigo = codigo\n",
        "        self.codigo_sucursal = codigo_sucursal\n",
        "        self.saldo = saldo\n",
        "        self.tipo = tipo\n",
        "\n",
        "class Cliente:\n",
        "    def __init__(self, no_cuenta, nombre, apellido, dni, telefono):\n",
        "        self.no_cuenta = no_cuenta\n",
        "        self.nombre = nombre\n",
        "        self.apellido = apellido\n",
        "        self.dni = dni\n",
        "        self.telefono = telefono\n",
        "\n",
        "class RelacionClienteCuenta:\n",
        "    def __init__(self, id, no_cuenta, no_cliente, privilegios):\n",
        "        self.id = id\n",
        "        self.no_cuenta = no_cuenta\n",
        "        self.no_cliente = no_cliente\n",
        "        self.privilegios = privilegios\n",
        "\n",
        "class Domiciliacion:\n",
        "    def __init__(self, id, codigo_cuenta, beneficiario, numero_cuenta_bancaria):\n",
        "        self.id = id\n",
        "        self.codigo_cuenta = codigo_cuenta\n",
        "        self.beneficiario = beneficiario\n",
        "        self.numero_cuenta_bancaria = numero_cuenta_bancaria\n",
        "\n",
        "class Prestamo:\n",
        "    def __init__(self, id, no_cliente, monto, tasa_interes, fecha_otorgamiento):\n",
        "        self.id = id\n",
        "        self.no_cliente = no_cliente\n",
        "        self.monto = monto\n",
        "        self.tasa_interes = tasa_interes\n",
        "        self.fecha_otorgamiento = fecha_otorgamiento\n",
        "\n",
        "# Crear instancias de las clases para almacenar datos\n",
        "sucursal_a = Sucursal(1, \"Sucursal A\", \"Calle A, Ciudad A\", \"123-456-7890\")\n",
        "cuenta_1 = CuentaCorriente(1001, 1, 5000.0, \"Corriente\")\n",
        "cliente_1 = Cliente(10001, \"Fernando\", \"López\", \"123456789\", \"987-654-3210\")\n",
        "relacion_1 = RelacionClienteCuenta(1, 10001, 1, \"Cerrar Cuenta\")\n",
        "domiciliacion_1 = Domiciliacion(1, 1001, \"Beneficiario A\", \"987654321\")\n",
        "prestamo_1 = Prestamo(1, 1, 10000.0, 0.05, \"2023-10-27\")\n"
      ],
      "metadata": {
        "id": "7YMvnuxqLAuV"
      },
      "execution_count": 3,
      "outputs": []
    },
    {
      "cell_type": "code",
      "execution_count": 2,
      "metadata": {
        "colab": {
          "base_uri": "https://localhost:8080/"
        },
        "id": "hCUEVbyZCABV",
        "outputId": "03b57268-f09e-457a-c1bf-a84f58a55934"
      },
      "outputs": [
        {
          "output_type": "stream",
          "name": "stdout",
          "text": [
            "Comunidad Autónoma: Comunidad de Madrid\n",
            "Provincia: Madrid\n",
            "Localidades en Madrid\n",
            "- Madrid Ciudad (Población: 3200000)\n"
          ]
        }
      ],
      "source": [
        "class Localidad:\n",
        "    def __init__(self, nombre, poblacion):\n",
        "        self.nombre = nombre\n",
        "        self.poblacion = poblacion\n",
        "\n",
        "class Provincia:\n",
        "    def __init__(self, codigo_postal, nombre, poblacion, superficie):\n",
        "        self.codigo_postal = codigo_postal\n",
        "        self.nombre = nombre\n",
        "        self.poblacion = poblacion\n",
        "        self.superficie = superficie\n",
        "        self.localidades = []\n",
        "\n",
        "    def agregar_localidad(self, localidad):\n",
        "        self.localidades.append(localidad)\n",
        "\n",
        "class ComunidadAutonoma:\n",
        "    def __init__(self, nombre, poblacion, superficie):\n",
        "        self.nombre = nombre\n",
        "        self.poblacion = poblacion\n",
        "        self.superficie = superficie\n",
        "        self.provincias = []\n",
        "        self.capital_provincia = None\n",
        "\n",
        "    def agregar_provincia(self, provincia):\n",
        "        self.provincias.append(provincia)\n",
        "\n",
        "# Crear instancias de localidades\n",
        "localidad1 = Localidad(\"Madrid Ciudad\", 3200000)\n",
        "localidad2 = Localidad(\"Barcelona Ciudad\", 1600000)\n",
        "\n",
        "# Crear instancias de provincias y agregar localidades\n",
        "provincia1 = Provincia(28, \"Madrid\", 6000000, 8000.0)\n",
        "provincia1.agregar_localidad(localidad1)\n",
        "provincia2 = Provincia(8, \"Barcelona\", 5500000, 7200.0)\n",
        "provincia2.agregar_localidad(localidad2)\n",
        "\n",
        "# Crear una instancia de Comunidad Autónoma y agregar provincias\n",
        "comunidad_autonoma1 = ComunidadAutonoma(\"Comunidad de Madrid\", 6800000, 8000.0)\n",
        "comunidad_autonoma1.agregar_provincia(provincia1)\n",
        "comunidad_autonoma1.capital_provincia = provincia1\n",
        "\n",
        "comunidad_autonoma2 = ComunidadAutonoma(\"Cataluña\", 7600000, 7500.0)\n",
        "comunidad_autonoma2.agregar_provincia(provincia2)\n",
        "comunidad_autonoma2.capital_provincia = provincia2\n",
        "\n",
        "# Acceder a los datos\n",
        "print(\"Comunidad Autónoma:\", comunidad_autonoma1.nombre)\n",
        "print(\"Provincia:\", provincia1.nombre)\n",
        "print(\"Localidades en\", provincia1.nombre)\n",
        "for localidad in provincia1.localidades:\n",
        "    print(\"- {} (Población: {})\".format(localidad.nombre, localidad.poblacion))\n",
        "\n"
      ]
    }
  ]
}