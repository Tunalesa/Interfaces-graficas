{
  "nbformat": 4,
  "nbformat_minor": 0,
  "metadata": {
    "colab": {
      "provenance": [],
      "authorship_tag": "ABX9TyN5/zPjzjWuiM0usqzJxpTB",
      "include_colab_link": true
    },
    "kernelspec": {
      "name": "python3",
      "display_name": "Python 3"
    },
    "language_info": {
      "name": "python"
    }
  },
  "cells": [
    {
      "cell_type": "markdown",
      "metadata": {
        "id": "view-in-github",
        "colab_type": "text"
      },
      "source": [
        "<a href=\"https://colab.research.google.com/github/Tunalesa/Interfaces-graficas/blob/main/ejercicios_de_la_presentaci%C3%B3n_POO.ipynb\" target=\"_parent\"><img src=\"https://colab.research.google.com/assets/colab-badge.svg\" alt=\"Open In Colab\"/></a>"
      ]
    },
    {
      "cell_type": "code",
      "source": [
        "class Sucursal:\n",
        "    def __init__(self, codigo, nombre, telefono):\n",
        "        self.codigo = codigo\n",
        "        self.nombre = nombre\n",
        "        self.telefono = telefono\n",
        "\n",
        "class CuentaCorriente:\n",
        "    def __init__(self, codigo, codigo_sucursal, saldo, tipo):\n",
        "        self.codigo = codigo\n",
        "        self.codigo_sucursal = codigo_sucursal\n",
        "        self.saldo = saldo\n",
        "        self.tipo = tipo\n",
        "\n",
        "class Cliente:\n",
        "    def __init__(self, no_cuenta, nombre, apellido, dni, telefono):\n",
        "        self.no_cuenta = no_cuenta\n",
        "        self.nombre = nombre\n",
        "        self.apellido = apellido\n",
        "        self.dni = dni\n",
        "        self.telefono = telefono\n",
        "\n",
        "class Domiciliacion:\n",
        "    def __init__(self, id, codigo_cuenta, beneficiario, numero_cuenta_bancaria):\n",
        "        self.id = id\n",
        "        self.codigo_cuenta = codigo_cuenta\n",
        "        self.beneficiario = beneficiario\n",
        "        self.numero_cuenta_bancaria = numero_cuenta_bancaria\n",
        "\n",
        "# Ejemplo de Sucursal 1\n",
        "sucursal1 = Sucursal(1, \"Sucursal Monterrey\", \"123-456-7890\")\n",
        "cuenta1 = CuentaCorriente(1001, 1, 5000.0, \"Corriente\")\n",
        "cliente1 = Cliente(10001, \"Fernando\", \"López\", \"123456789\", \"987-654-3210\")\n",
        "domiciliacion1 = Domiciliacion(1, 1001, \"Beneficiario Gold\", \"987654321\")\n",
        "\n",
        "# Ejemplo de Sucursal 2\n",
        "sucursal2 = Sucursal(2, \"Sucursal San Nicolas\", \"456-789-0123\")\n",
        "cuenta2 = CuentaCorriente(1002, 2, 7500.0, \"Corriente\")\n",
        "cliente2 = Cliente(10002, \"Paula\", \"Suárez\", \"987654321\", \"555-123-4567\")\n",
        "domiciliacion2 = Domiciliacion(2, 1002, \"Beneficiario Platinum\", \"543210987\")\n",
        "\n",
        "# Ejemplo de Sucursal 3\n",
        "sucursal3 = Sucursal(3, \"Sucursal Guadalupe\", \"789-012-3456\")\n",
        "cuenta3 = CuentaCorriente(1003, 3, 6000.0, \"Corriente\")\n",
        "cliente3 = Cliente(10003, \"Carlos\", \"Martínez\", \"654321987\", \"333-444-5555\")\n",
        "domiciliacion3 = Domiciliacion(3, 1003, \"Beneficiario Diamond\", \"123456789\")\n",
        "\n",
        "# Ejemplo de Sucursal 4\n",
        "sucursal4 = Sucursal(4, \"Sucursal Garcia\", \"888-999-0000\")\n",
        "cuenta4 = CuentaCorriente(1004, 4, 8500.0, \"Corriente\")\n",
        "cliente4 = Cliente(10004, \"Laura\", \"Gómez\", \"789456123\", \"111-222-3333\")\n",
        "domiciliacion4 = Domiciliacion(4, 1004, \"Beneficiario Iron\", \"987654321\")\n",
        "\n",
        "# Ejemplo de Sucursal 5\n",
        "sucursal5 = Sucursal(5, \"Sucursal San Pedro\", \"222-333-4444\")\n",
        "cuenta5 = CuentaCorriente(1005, 5, 7000.0, \"Corriente\")\n",
        "cliente5 = Cliente(10005, \"Miguel\", \"Pérez\", \"333222111\", \"444-555-6666\")\n",
        "domiciliacion5 = Domiciliacion(5, 1005, \"Beneficiario GrandMaster\", \"111122223333\")\n",
        "\n",
        "# Mostrar información de Sucursal 1\n",
        "print(\"Información de Sucursal 1:\")\n",
        "print(f\"Código: {sucursal1.codigo}\")\n",
        "print(f\"Nombre: {sucursal1.nombre}\")\n",
        "print(f\"Teléfono: {sucursal1.telefono}\\n\")\n",
        "\n",
        "# Mostrar información de Cuenta 1\n",
        "print(\"Información de Cuenta 1:\")\n",
        "print(f\"Código: {cuenta1.codigo}\")\n",
        "print(f\"Código de Sucursal: {cuenta1.codigo_sucursal}\")\n",
        "print(f\"Saldo: {cuenta1.saldo}\")\n",
        "print(f\"Tipo: {cuenta1.tipo}\\n\")\n",
        "\n",
        "# Mostrar información de Cliente 1\n",
        "print(\"Información de Cliente 1:\")\n",
        "print(f\"No. de Cuenta: {cliente1.no_cuenta}\")\n",
        "print(f\"Nombre: {cliente1.nombre}\")\n",
        "print(f\"Apellido: {cliente1.apellido}\")\n",
        "print(f\"DNI: {cliente1.dni}\")\n",
        "print(f\"Teléfono: {cliente1.telefono}\\n\")\n",
        "\n",
        "# Mostrar información de Domiciliación 1\n",
        "print(\"Información de Domiciliación 1:\")\n",
        "print(f\"ID: {domiciliacion1.id}\")\n",
        "print(f\"Código de Cuenta: {domiciliacion1.codigo_cuenta}\")\n",
        "print(f\"{domiciliacion1.beneficiario}\")\n",
        "print(f\"Número de Cuenta Bancaria: {domiciliacion1.numero_cuenta_bancaria}\\n\")\n",
        "\n"
      ],
      "metadata": {
        "id": "7YMvnuxqLAuV",
        "colab": {
          "base_uri": "https://localhost:8080/"
        },
        "outputId": "3dc3a095-b18a-4a2e-a806-194ef44228d9"
      },
      "execution_count": 8,
      "outputs": [
        {
          "output_type": "stream",
          "name": "stdout",
          "text": [
            "Información de Sucursal 1:\n",
            "Código: 1\n",
            "Nombre: Sucursal Monterrey\n",
            "Teléfono: 123-456-7890\n",
            "\n",
            "Información de Cuenta 1:\n",
            "Código: 1001\n",
            "Código de Sucursal: 1\n",
            "Saldo: 5000.0\n",
            "Tipo: Corriente\n",
            "\n",
            "Información de Cliente 1:\n",
            "No. de Cuenta: 10001\n",
            "Nombre: Fernando\n",
            "Apellido: López\n",
            "DNI: 123456789\n",
            "Teléfono: 987-654-3210\n",
            "\n",
            "Información de Domiciliación 1:\n",
            "ID: 1\n",
            "Código de Cuenta: 1001\n",
            "Beneficiario Gold\n",
            "Número de Cuenta Bancaria: 987654321\n",
            "\n"
          ]
        }
      ]
    },
    {
      "cell_type": "code",
      "execution_count": null,
      "metadata": {
        "colab": {
          "base_uri": "https://localhost:8080/"
        },
        "id": "hCUEVbyZCABV",
        "outputId": "03b57268-f09e-457a-c1bf-a84f58a55934"
      },
      "outputs": [
        {
          "output_type": "stream",
          "name": "stdout",
          "text": [
            "Comunidad Autónoma: Comunidad de Madrid\n",
            "Provincia: Madrid\n",
            "Localidades en Madrid\n",
            "- Madrid Ciudad (Población: 3200000)\n"
          ]
        }
      ],
      "source": [
        "class Localidad:\n",
        "    def __init__(self, nombre, poblacion):\n",
        "        self.nombre = nombre\n",
        "        self.poblacion = poblacion\n",
        "\n",
        "class Provincia:\n",
        "    def __init__(self, codigo_postal, nombre, poblacion, superficie):\n",
        "        self.codigo_postal = codigo_postal\n",
        "        self.nombre = nombre\n",
        "        self.poblacion = poblacion\n",
        "        self.superficie = superficie\n",
        "        self.localidades = []\n",
        "\n",
        "    def agregar_localidad(self, localidad):\n",
        "        self.localidades.append(localidad)\n",
        "\n",
        "class ComunidadAutonoma:\n",
        "    def __init__(self, nombre, poblacion, superficie):\n",
        "        self.nombre = nombre\n",
        "        self.poblacion = poblacion\n",
        "        self.superficie = superficie\n",
        "        self.provincias = []\n",
        "        self.capital_provincia = None\n",
        "\n",
        "    def agregar_provincia(self, provincia):\n",
        "        self.provincias.append(provincia)\n",
        "\n",
        "# Crear instancias de localidades\n",
        "localidad1 = Localidad(\"Madrid Ciudad\", 3200000)\n",
        "localidad2 = Localidad(\"Barcelona Ciudad\", 1600000)\n",
        "\n",
        "# Crear instancias de provincias y agregar localidades\n",
        "provincia1 = Provincia(28, \"Madrid\", 6000000, 8000.0)\n",
        "provincia1.agregar_localidad(localidad1)\n",
        "provincia2 = Provincia(8, \"Barcelona\", 5500000, 7200.0)\n",
        "provincia2.agregar_localidad(localidad2)\n",
        "\n",
        "# Crear una instancia de Comunidad Autónoma y agregar provincias\n",
        "comunidad_autonoma1 = ComunidadAutonoma(\"Comunidad de Madrid\", 6800000, 8000.0)\n",
        "comunidad_autonoma1.agregar_provincia(provincia1)\n",
        "comunidad_autonoma1.capital_provincia = provincia1\n",
        "\n",
        "comunidad_autonoma2 = ComunidadAutonoma(\"Cataluña\", 7600000, 7500.0)\n",
        "comunidad_autonoma2.agregar_provincia(provincia2)\n",
        "comunidad_autonoma2.capital_provincia = provincia2\n",
        "\n",
        "# Acceder a los datos\n",
        "print(\"Comunidad Autónoma:\", comunidad_autonoma1.nombre)\n",
        "print(\"Provincia:\", provincia1.nombre)\n",
        "print(\"Localidades en\", provincia1.nombre)\n",
        "for localidad in provincia1.localidades:\n",
        "    print(\"- {} (Población: {})\".format(localidad.nombre, localidad.poblacion))\n",
        "\n"
      ]
    }
  ]
}