{
  "nbformat": 4,
  "nbformat_minor": 0,
  "metadata": {
    "colab": {
      "provenance": [],
      "authorship_tag": "ABX9TyMEQHkS02MmG54bppF1QMA8",
      "include_colab_link": true
    },
    "kernelspec": {
      "name": "python3",
      "display_name": "Python 3"
    },
    "language_info": {
      "name": "python"
    }
  },
  "cells": [
    {
      "cell_type": "markdown",
      "metadata": {
        "id": "view-in-github",
        "colab_type": "text"
      },
      "source": [
        "<a href=\"https://colab.research.google.com/github/Tunalesa/Interfaces-graficas/blob/main/codigo_objeto.ipynb\" target=\"_parent\"><img src=\"https://colab.research.google.com/assets/colab-badge.svg\" alt=\"Open In Colab\"/></a>"
      ]
    },
    {
      "cell_type": "code",
      "execution_count": 9,
      "metadata": {
        "colab": {
          "base_uri": "https://localhost:8080/"
        },
        "id": "AQEk7my4SMOB",
        "outputId": "4eb39098-883e-4ffb-8da6-e2206566f7b2"
      },
      "outputs": [
        {
          "output_type": "stream",
          "name": "stdout",
          "text": [
            "Nombre de la sucursal A: Sucursal Principal\n",
            "Saldo de la cuenta: 10000.0\n",
            "Nombre del cliente A: Fernando López\n",
            "Monto del préstamo A: 5000.0\n",
            "Nombre de la sucursal B: Sucursal Norte\n",
            "Nombre del cliente B: Paula Suárez\n",
            "Monto del préstamo B: 3500.0\n"
          ]
        }
      ],
      "source": [
        "# Sucursales\n",
        "sucursalA = {\n",
        "    'codigo': 'SUC001',\n",
        "    'nombre': 'Sucursal Principal',\n",
        "    'direccion': '123 Calle Principal',\n",
        "    'telefono': '555-123-4567'\n",
        "}\n",
        "\n",
        "sucursalB = {\n",
        "    'codigo': 'SUC002',\n",
        "    'nombre': 'Sucursal Norte',\n",
        "    'direccion': '456 Avenida Norte',\n",
        "    'telefono': '555-789-0123'\n",
        "}\n",
        "\n",
        "# Cuenta Corriente\n",
        "cuenta = {\n",
        "    'codigo': 'CC001',\n",
        "    'saldo': 10000.0,\n",
        "    'fechaApertura': '2023-10-29',\n",
        "    'clientes': ['Fernando López', 'Paula Suárez'],\n",
        "    'privilegios': {'Fernando López': 'Cierre de cuenta'}\n",
        "}\n",
        "\n",
        "# Clientes\n",
        "clienteA = {\n",
        "    'numero': 'CL001',\n",
        "    'nombre': 'Fernando López',\n",
        "    'direccion': '456 Calle Sweet',\n",
        "    'telefono': '555-987-6543',\n",
        "    'cuentas': ['CC001'],\n",
        "    'prestamos': ['PR001']\n",
        "}\n",
        "\n",
        "clienteB = {\n",
        "    'numero': 'CL002',  # Corregido el número de cliente\n",
        "    'nombre': 'Paula Suárez',\n",
        "    'direccion': '227 Calle North',\n",
        "    'telefono': '555-975-6861',\n",
        "    'cuentas': ['CC001'],\n",
        "    'prestamos': ['PR002']\n",
        "}\n",
        "\n",
        "# Préstamos\n",
        "prestamoA = {\n",
        "    'numero': 'PR001',\n",
        "    'monto': 5000.0,\n",
        "    'tasaInteres': 0.05,\n",
        "}\n",
        "\n",
        "prestamoB = {\n",
        "    'numero': 'PR002',\n",
        "    'monto': 3500.0,\n",
        "    'tasaInteres': 0.07,\n",
        "}\n",
        "\n",
        "# Acceder a la información\n",
        "print('Nombre de la sucursal A:', sucursalA['nombre'])\n",
        "print('Saldo de la cuenta:', cuenta['saldo'])\n",
        "print('Nombre del cliente A:', clienteA['nombre'])\n",
        "print('Monto del préstamo A:', prestamoA['monto'])\n",
        "\n",
        "print('Nombre de la sucursal B:', sucursalB['nombre'])\n",
        "print('Nombre del cliente B:', clienteB['nombre'])\n",
        "print('Monto del préstamo B:', prestamoB['monto'])\n"
      ]
    },
    {
      "cell_type": "code",
      "source": [
        "for contador in range(11):\n",
        "    print(\"Valor actual del contador:\", contador)\n",
        "\n",
        "print(\"El contador ha llegado a 10.\")\n"
      ],
      "metadata": {
        "colab": {
          "base_uri": "https://localhost:8080/"
        },
        "id": "-eKz8HRPUHHp",
        "outputId": "487c5f96-9bc0-41e8-f120-f003a5855eb5"
      },
      "execution_count": 6,
      "outputs": [
        {
          "output_type": "stream",
          "name": "stdout",
          "text": [
            "Valor actual del contador: 0\n",
            "Valor actual del contador: 1\n",
            "Valor actual del contador: 2\n",
            "Valor actual del contador: 3\n",
            "Valor actual del contador: 4\n",
            "Valor actual del contador: 5\n",
            "Valor actual del contador: 6\n",
            "Valor actual del contador: 7\n",
            "Valor actual del contador: 8\n",
            "Valor actual del contador: 9\n",
            "Valor actual del contador: 10\n",
            "El contador ha llegado a 10.\n"
          ]
        }
      ]
    },
    {
      "cell_type": "code",
      "source": [
        "import sqlite3\n",
        "\n",
        "# Conectar a la base de datos\n",
        "conn = sqlite3.connect('geografia_espana.db')\n",
        "c = conn.cursor()\n",
        "\n",
        "# Recuperar datos de la tabla Localidad\n",
        "c.execute(\"SELECT * FROM Localidad\")\n",
        "localidades = c.fetchall()  # Obtener todos los registros de la tabla Localidad\n",
        "\n",
        "# Recuperar datos de la tabla Provincia\n",
        "c.execute(\"SELECT * FROM Provincia\")\n",
        "provincias = c.fetchall()  # Obtener todos los registros de la tabla Provincia\n",
        "\n",
        "# Recuperar datos de la tabla Comunidad Autónoma\n",
        "c.execute(\"SELECT * FROM ComunidadAutonoma\")\n",
        "comunidades_autonomas = c.fetchall()  # Obtener todos los registros de la tabla ComunidadAutonoma\n",
        "\n",
        "# Cerrar la conexión\n",
        "conn.close()\n",
        "\n",
        "# Mostrar los datos recuperados\n",
        "print(\"Localidades:\")\n",
        "for localidad in localidades:\n",
        "    print(localidad)\n",
        "\n",
        "print(\"\\nProvincias:\")\n",
        "for provincia in provincias:\n",
        "    print(provincia)\n",
        "\n",
        "print(\"\\nComunidades Autónomas:\")\n",
        "for comunidad_autonoma in comunidades_autonomas:\n",
        "    print(comunidad_autonoma)\n"
      ],
      "metadata": {
        "colab": {
          "base_uri": "https://localhost:8080/"
        },
        "id": "lg127aRIUL3X",
        "outputId": "ef4b1bbe-5c6e-49bb-d305-79d7e4e48238"
      },
      "execution_count": 12,
      "outputs": [
        {
          "output_type": "stream",
          "name": "stdout",
          "text": [
            "Localidades:\n",
            "(1, 'Localidad1', 10000)\n",
            "\n",
            "Provincias:\n",
            "(1, 'Provincia1', 500000, 2000.5, 34)\n",
            "\n",
            "Comunidades Autónomas:\n",
            "(1, 'ComunidadAutonoma1', 2000000, 5000.75)\n"
          ]
        }
      ]
    }
  ]
}